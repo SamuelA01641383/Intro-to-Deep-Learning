{
  "metadata": {
    "jupytext": {
      "cell_metadata_filter": "-all",
      "formats": "ipynb"
    },
    "kernelspec": {
      "display_name": "Python 3",
      "language": "python",
      "name": "python3"
    },
    "language_info": {
      "name": "python",
      "version": "3.10.13",
      "mimetype": "text/x-python",
      "codemirror_mode": {
        "name": "ipython",
        "version": 3
      },
      "pygments_lexer": "ipython3",
      "nbconvert_exporter": "python",
      "file_extension": ".py"
    },
    "kaggle": {
      "accelerator": "gpu",
      "dataSources": [
        {
          "sourceId": 1480608,
          "sourceType": "datasetVersion",
          "datasetId": 829369
        }
      ],
      "dockerImageVersionId": 30648,
      "isInternetEnabled": false,
      "language": "python",
      "sourceType": "notebook",
      "isGpuEnabled": true
    },
    "colab": {
      "provenance": []
    }
  },
  "nbformat_minor": 0,
  "nbformat": 4,
  "cells": [
    {
      "cell_type": "markdown",
      "source": [
        "**This notebook is an exercise in the [Intro to Deep Learning](https://www.kaggle.com/learn/intro-to-deep-learning) course.  You can reference the tutorial at [this link](https://www.kaggle.com/ryanholbrook/dropout-and-batch-normalization).**\n",
        "\n",
        "---\n"
      ],
      "metadata": {
        "id": "5mLUfA98eyAE"
      }
    },
    {
      "cell_type": "markdown",
      "source": [
        "# Introduction #\n",
        "\n",
        "In this exercise, you'll add dropout to the *Spotify* model from Exercise 4 and see how batch normalization can let you successfully train models on difficult datasets.\n",
        "\n",
        "Run the next cell to get started!"
      ],
      "metadata": {
        "id": "XIZgEtv0eyAF"
      }
    },
    {
      "cell_type": "code",
      "source": [
        "# Setup plotting\n",
        "import matplotlib.pyplot as plt\n",
        "plt.style.use('seaborn-whitegrid')\n",
        "# Set Matplotlib defaults\n",
        "plt.rc('figure', autolayout=True)\n",
        "plt.rc('axes', labelweight='bold', labelsize='large',\n",
        "       titleweight='bold', titlesize=18, titlepad=10)\n",
        "plt.rc('animation', html='html5')\n",
        "\n",
        "# Setup feedback system\n",
        "from learntools.core import binder\n",
        "binder.bind(globals())\n",
        "from learntools.deep_learning_intro.ex5 import *"
      ],
      "metadata": {
        "execution": {
          "iopub.status.busy": "2024-10-01T23:43:52.870883Z",
          "iopub.execute_input": "2024-10-01T23:43:52.871528Z",
          "iopub.status.idle": "2024-10-01T23:43:53.841869Z",
          "shell.execute_reply.started": "2024-10-01T23:43:52.871494Z",
          "shell.execute_reply": "2024-10-01T23:43:53.840839Z"
        },
        "trusted": true,
        "id": "6cPA1f6YeyAF",
        "outputId": "93d72f35-fd71-41a9-e5e3-bade1d0c8d45"
      },
      "execution_count": null,
      "outputs": [
        {
          "name": "stderr",
          "text": "/tmp/ipykernel_32/195640296.py:3: MatplotlibDeprecationWarning: The seaborn styles shipped by Matplotlib are deprecated since 3.6, as they no longer correspond to the styles shipped by seaborn. However, they will remain available as 'seaborn-v0_8-<style>'. Alternatively, directly use the seaborn API instead.\n  plt.style.use('seaborn-whitegrid')\n",
          "output_type": "stream"
        }
      ]
    },
    {
      "cell_type": "markdown",
      "source": [
        "First load the *Spotify* dataset."
      ],
      "metadata": {
        "id": "2uk2pdtmeyAF"
      }
    },
    {
      "cell_type": "code",
      "source": [
        "import pandas as pd\n",
        "from sklearn.preprocessing import StandardScaler, OneHotEncoder\n",
        "from sklearn.compose import make_column_transformer\n",
        "from sklearn.model_selection import GroupShuffleSplit\n",
        "\n",
        "from tensorflow import keras\n",
        "from tensorflow.keras import layers\n",
        "from tensorflow.keras import callbacks\n",
        "\n",
        "spotify = pd.read_csv('../input/dl-course-data/spotify.csv')\n",
        "\n",
        "X = spotify.copy().dropna()\n",
        "y = X.pop('track_popularity')\n",
        "artists = X['track_artist']\n",
        "\n",
        "features_num = ['danceability', 'energy', 'key', 'loudness', 'mode',\n",
        "                'speechiness', 'acousticness', 'instrumentalness',\n",
        "                'liveness', 'valence', 'tempo', 'duration_ms']\n",
        "features_cat = ['playlist_genre']\n",
        "\n",
        "preprocessor = make_column_transformer(\n",
        "    (StandardScaler(), features_num),\n",
        "    (OneHotEncoder(), features_cat),\n",
        ")\n",
        "\n",
        "def group_split(X, y, group, train_size=0.75):\n",
        "    splitter = GroupShuffleSplit(train_size=train_size)\n",
        "    train, test = next(splitter.split(X, y, groups=group))\n",
        "    return (X.iloc[train], X.iloc[test], y.iloc[train], y.iloc[test])\n",
        "\n",
        "X_train, X_valid, y_train, y_valid = group_split(X, y, artists)\n",
        "\n",
        "X_train = preprocessor.fit_transform(X_train)\n",
        "X_valid = preprocessor.transform(X_valid)\n",
        "y_train = y_train / 100\n",
        "y_valid = y_valid / 100\n",
        "\n",
        "input_shape = [X_train.shape[1]]\n",
        "print(\"Input shape: {}\".format(input_shape))"
      ],
      "metadata": {
        "execution": {
          "iopub.status.busy": "2024-10-01T23:43:59.921008Z",
          "iopub.execute_input": "2024-10-01T23:43:59.921731Z",
          "iopub.status.idle": "2024-10-01T23:44:13.052219Z",
          "shell.execute_reply.started": "2024-10-01T23:43:59.921696Z",
          "shell.execute_reply": "2024-10-01T23:44:13.051253Z"
        },
        "trusted": true,
        "id": "lZZDcuxNeyAG",
        "outputId": "f215e3ea-b6f7-4d2e-c146-590bb630ec30"
      },
      "execution_count": null,
      "outputs": [
        {
          "name": "stderr",
          "text": "2024-10-01 23:44:02.295002: E external/local_xla/xla/stream_executor/cuda/cuda_dnn.cc:9261] Unable to register cuDNN factory: Attempting to register factory for plugin cuDNN when one has already been registered\n2024-10-01 23:44:02.295120: E external/local_xla/xla/stream_executor/cuda/cuda_fft.cc:607] Unable to register cuFFT factory: Attempting to register factory for plugin cuFFT when one has already been registered\n2024-10-01 23:44:02.435093: E external/local_xla/xla/stream_executor/cuda/cuda_blas.cc:1515] Unable to register cuBLAS factory: Attempting to register factory for plugin cuBLAS when one has already been registered\n",
          "output_type": "stream"
        },
        {
          "name": "stdout",
          "text": "Input shape: [18]\n",
          "output_type": "stream"
        }
      ]
    },
    {
      "cell_type": "markdown",
      "source": [
        "# 1) Add Dropout to Spotify Model\n",
        "\n",
        "Here is the last model from Exercise 4. Add two dropout layers, one after the `Dense` layer with 128 units, and one after the `Dense` layer with 64 units. Set the dropout rate on both to `0.3`."
      ],
      "metadata": {
        "id": "C_zxSNRPeyAG"
      }
    },
    {
      "cell_type": "code",
      "source": [
        "# YOUR CODE HERE: Add two 30% dropout layers, one after 128 and one after 64\n",
        "model = keras.Sequential([\n",
        "    layers.Dense(128, activation='relu', input_shape=input_shape),\n",
        "    layers.Dropout(0.3),\n",
        "    layers.Dense(64, activation='relu'),\n",
        "    layers.Dropout(0.3),\n",
        "    layers.Dense(1)\n",
        "])\n",
        "\n",
        "\n",
        "# Check your answer\n",
        "q_1.check()"
      ],
      "metadata": {
        "lines_to_next_cell": 2,
        "execution": {
          "iopub.status.busy": "2024-10-01T23:44:58.145442Z",
          "iopub.execute_input": "2024-10-01T23:44:58.145858Z",
          "iopub.status.idle": "2024-10-01T23:44:58.203805Z",
          "shell.execute_reply.started": "2024-10-01T23:44:58.145829Z",
          "shell.execute_reply": "2024-10-01T23:44:58.202883Z"
        },
        "trusted": true,
        "id": "Qt_Z15HBeyAG",
        "outputId": "7fdd4d4e-66e1-4bb4-b6f1-b3b83a03856f"
      },
      "execution_count": null,
      "outputs": [
        {
          "output_type": "display_data",
          "data": {
            "text/plain": "<IPython.core.display.Javascript object>",
            "application/javascript": "parent.postMessage({\"jupyterEvent\": \"custom.exercise_interaction\", \"data\": {\"outcomeType\": 1, \"valueTowardsCompletion\": 0.25, \"interactionType\": 1, \"questionType\": 2, \"questionId\": \"1_Q1\", \"learnToolsVersion\": \"0.3.4\", \"failureMessage\": \"\", \"exceptionClass\": \"\", \"trace\": \"\"}}, \"*\")"
          },
          "metadata": {}
        },
        {
          "output_type": "display_data",
          "data": {
            "text/plain": "Correct",
            "text/markdown": "<span style=\"color:#33cc33\">Correct</span>"
          },
          "metadata": {}
        }
      ]
    },
    {
      "cell_type": "code",
      "source": [
        "# Lines below will give you a hint or solution code\n",
        "#q_1.hint()\n",
        "#q_1.solution()"
      ],
      "metadata": {
        "id": "HPUQT9yfeyAG"
      },
      "execution_count": null,
      "outputs": []
    },
    {
      "cell_type": "markdown",
      "source": [
        "Now run this next cell to train the model see the effect of adding dropout."
      ],
      "metadata": {
        "id": "RWKwqP8peyAH"
      }
    },
    {
      "cell_type": "code",
      "source": [
        "model.compile(\n",
        "    optimizer='adam',\n",
        "    loss='mae',\n",
        ")\n",
        "history = model.fit(\n",
        "    X_train, y_train,\n",
        "    validation_data=(X_valid, y_valid),\n",
        "    batch_size=512,\n",
        "    epochs=50,\n",
        "    verbose=0,\n",
        ")\n",
        "history_df = pd.DataFrame(history.history)\n",
        "history_df.loc[:, ['loss', 'val_loss']].plot()\n",
        "print(\"Minimum Validation Loss: {:0.4f}\".format(history_df['val_loss'].min()))"
      ],
      "metadata": {
        "execution": {
          "iopub.status.busy": "2024-10-01T23:45:02.499804Z",
          "iopub.execute_input": "2024-10-01T23:45:02.500172Z",
          "iopub.status.idle": "2024-10-01T23:45:13.637273Z",
          "shell.execute_reply.started": "2024-10-01T23:45:02.500129Z",
          "shell.execute_reply": "2024-10-01T23:45:13.636290Z"
        },
        "trusted": true,
        "id": "GCQHAKlZeyAH",
        "outputId": "336ed489-ef17-4b80-dfd8-5485f7f9d7c1"
      },
      "execution_count": null,
      "outputs": [
        {
          "name": "stdout",
          "text": "Minimum Validation Loss: 0.1893\n",
          "output_type": "stream"
        },
        {
          "output_type": "display_data",
          "data": {
            "text/plain": "<Figure size 640x480 with 1 Axes>",
            "image/png": "[encoded data removed]"
          },
          "metadata": {}
        }
      ]
    },
    {
      "cell_type": "markdown",
      "source": [
        "# 2) Evaluate Dropout\n",
        "\n",
        "Recall from Exercise 4 that this model tended to overfit the data around epoch 5. Did adding dropout seem to help prevent overfitting this time?"
      ],
      "metadata": {
        "id": "kNqDeCGQeyAH"
      }
    },
    {
      "cell_type": "code",
      "source": [
        "# View the solution (Run this cell to receive credit!)\n",
        "q_2.check()"
      ],
      "metadata": {
        "execution": {
          "iopub.status.busy": "2024-10-01T23:45:19.481499Z",
          "iopub.execute_input": "2024-10-01T23:45:19.482399Z",
          "iopub.status.idle": "2024-10-01T23:45:19.489563Z",
          "shell.execute_reply.started": "2024-10-01T23:45:19.482365Z",
          "shell.execute_reply": "2024-10-01T23:45:19.488587Z"
        },
        "trusted": true,
        "id": "tgwSrMTheyAH",
        "outputId": "2d9c6f10-fce2-48e6-cc84-feb5528d2374"
      },
      "execution_count": null,
      "outputs": [
        {
          "output_type": "display_data",
          "data": {
            "text/plain": "<IPython.core.display.Javascript object>",
            "application/javascript": "parent.postMessage({\"jupyterEvent\": \"custom.exercise_interaction\", \"data\": {\"outcomeType\": 1, \"valueTowardsCompletion\": 0.25, \"interactionType\": 1, \"questionType\": 4, \"questionId\": \"2_Q2\", \"learnToolsVersion\": \"0.3.4\", \"failureMessage\": \"\", \"exceptionClass\": \"\", \"trace\": \"\"}}, \"*\")"
          },
          "metadata": {}
        },
        {
          "output_type": "display_data",
          "data": {
            "text/plain": "Correct: \n\n\nFrom the learning curves, you can see that the validation loss remains near a constant minimum even though the training loss continues to decrease. So we can see that adding dropout did prevent overfitting this time. Moreover, by making it harder for the network to fit spurious patterns, dropout may have encouraged the network to seek out more of the true patterns, possibly improving the validation loss some as well).",
            "text/markdown": "<span style=\"color:#33cc33\">Correct:</span> \n\n\nFrom the learning curves, you can see that the validation loss remains near a constant minimum even though the training loss continues to decrease. So we can see that adding dropout did prevent overfitting this time. Moreover, by making it harder for the network to fit spurious patterns, dropout may have encouraged the network to seek out more of the true patterns, possibly improving the validation loss some as well).\n"
          },
          "metadata": {}
        }
      ]
    },
    {
      "cell_type": "markdown",
      "source": [
        "Now, we'll switch topics to explore how batch normalization can fix problems in training.\n",
        "\n",
        "Load the *Concrete* dataset. We won't do any standardization this time. This will make the effect of batch normalization much more apparent."
      ],
      "metadata": {
        "id": "KqJPMJE6eyAH"
      }
    },
    {
      "cell_type": "code",
      "source": [
        "import pandas as pd\n",
        "\n",
        "concrete = pd.read_csv('../input/dl-course-data/concrete.csv')\n",
        "df = concrete.copy()\n",
        "\n",
        "df_train = df.sample(frac=0.7, random_state=0)\n",
        "df_valid = df.drop(df_train.index)\n",
        "\n",
        "X_train = df_train.drop('CompressiveStrength', axis=1)\n",
        "X_valid = df_valid.drop('CompressiveStrength', axis=1)\n",
        "y_train = df_train['CompressiveStrength']\n",
        "y_valid = df_valid['CompressiveStrength']\n",
        "\n",
        "input_shape = [X_train.shape[1]]"
      ],
      "metadata": {
        "execution": {
          "iopub.status.busy": "2024-10-01T23:45:22.443944Z",
          "iopub.execute_input": "2024-10-01T23:45:22.444775Z",
          "iopub.status.idle": "2024-10-01T23:45:22.461068Z",
          "shell.execute_reply.started": "2024-10-01T23:45:22.444743Z",
          "shell.execute_reply": "2024-10-01T23:45:22.460312Z"
        },
        "trusted": true,
        "id": "RP1ZsNkheyAH"
      },
      "execution_count": null,
      "outputs": []
    },
    {
      "cell_type": "markdown",
      "source": [
        "Run the following cell to train the network on the unstandardized *Concrete* data."
      ],
      "metadata": {
        "id": "ex1-dZXJeyAH"
      }
    },
    {
      "cell_type": "code",
      "source": [
        "model = keras.Sequential([\n",
        "    layers.Dense(512, activation='relu', input_shape=input_shape),\n",
        "    layers.Dense(512, activation='relu'),\n",
        "    layers.Dense(512, activation='relu'),\n",
        "    layers.Dense(1),\n",
        "])\n",
        "model.compile(\n",
        "    optimizer='sgd', # SGD is more sensitive to differences of scale\n",
        "    loss='mae',\n",
        "    metrics=['mae'],\n",
        ")\n",
        "history = model.fit(\n",
        "    X_train, y_train,\n",
        "    validation_data=(X_valid, y_valid),\n",
        "    batch_size=64,\n",
        "    epochs=100,\n",
        "    verbose=0,\n",
        ")\n",
        "\n",
        "history_df = pd.DataFrame(history.history)\n",
        "history_df.loc[0:, ['loss', 'val_loss']].plot()\n",
        "print((\"Minimum Validation Loss: {:0.4f}\").format(history_df['val_loss'].min()))"
      ],
      "metadata": {
        "execution": {
          "iopub.status.busy": "2024-10-01T23:45:26.825054Z",
          "iopub.execute_input": "2024-10-01T23:45:26.825805Z",
          "iopub.status.idle": "2024-10-01T23:45:36.110676Z",
          "shell.execute_reply.started": "2024-10-01T23:45:26.825774Z",
          "shell.execute_reply": "2024-10-01T23:45:36.109632Z"
        },
        "trusted": true,
        "id": "rhUkbshueyAH",
        "outputId": "f6aaeed6-8a32-4773-dd7f-f55f538de7c1"
      },
      "execution_count": null,
      "outputs": [
        {
          "name": "stdout",
          "text": "Minimum Validation Loss: nan\n",
          "output_type": "stream"
        },
        {
          "output_type": "display_data",
          "data": {
            "text/plain": "<Figure size 640x480 with 1 Axes>",
            "image/png": "[encoded data removed]"
          },
          "metadata": {}
        }
      ]
    },
    {
      "cell_type": "markdown",
      "source": [
        "Did you end up with a blank graph? Trying to train this network on this dataset will usually fail. Even when it does converge (due to a lucky weight initialization), it tends to converge to a very large number.\n",
        "\n",
        "# 3) Add Batch Normalization Layers\n",
        "\n",
        "Batch normalization can help correct problems like this.\n",
        "\n",
        "Add four `BatchNormalization` layers, one before each of the dense layers. (Remember to move the `input_shape` argument to the new first layer.)"
      ],
      "metadata": {
        "id": "1fekldbyeyAI"
      }
    },
    {
      "cell_type": "code",
      "source": [
        "# YOUR CODE HERE: Add a BatchNormalization layer before each Dense layer\n",
        "model = keras.Sequential([\n",
        "    layers.BatchNormalization(input_shape=input_shape),\n",
        "    layers.Dense(512, activation='relu'),\n",
        "    layers.BatchNormalization(),\n",
        "    layers.Dense(512, activation='relu'),\n",
        "    layers.BatchNormalization(),\n",
        "    layers.Dense(512, activation='relu'),\n",
        "    layers.BatchNormalization(),\n",
        "    layers.Dense(1),\n",
        "])\n",
        "\n",
        "# Check your answer\n",
        "q_3.check()"
      ],
      "metadata": {
        "lines_to_next_cell": 0,
        "execution": {
          "iopub.status.busy": "2024-10-01T23:46:27.542646Z",
          "iopub.execute_input": "2024-10-01T23:46:27.543043Z",
          "iopub.status.idle": "2024-10-01T23:46:27.686646Z",
          "shell.execute_reply.started": "2024-10-01T23:46:27.543013Z",
          "shell.execute_reply": "2024-10-01T23:46:27.685751Z"
        },
        "trusted": true,
        "id": "cY3hwGCReyAI",
        "outputId": "c988a6d2-2b9f-45a5-ab6b-265cc268b8ad"
      },
      "execution_count": null,
      "outputs": [
        {
          "output_type": "display_data",
          "data": {
            "text/plain": "<IPython.core.display.Javascript object>",
            "application/javascript": "parent.postMessage({\"jupyterEvent\": \"custom.exercise_interaction\", \"data\": {\"outcomeType\": 1, \"valueTowardsCompletion\": 0.25, \"interactionType\": 1, \"questionType\": 2, \"questionId\": \"3_Q3\", \"learnToolsVersion\": \"0.3.4\", \"failureMessage\": \"\", \"exceptionClass\": \"\", \"trace\": \"\"}}, \"*\")"
          },
          "metadata": {}
        },
        {
          "output_type": "display_data",
          "data": {
            "text/plain": "Correct",
            "text/markdown": "<span style=\"color:#33cc33\">Correct</span>"
          },
          "metadata": {}
        }
      ]
    },
    {
      "cell_type": "code",
      "source": [
        "# Lines below will give you a hint or solution code\n",
        "#q_3.hint()\n",
        "#q_3.solution()"
      ],
      "metadata": {
        "id": "uHkX7FuDeyAI"
      },
      "execution_count": null,
      "outputs": []
    },
    {
      "cell_type": "markdown",
      "source": [
        "Run the next cell to see if batch normalization will let us train the model."
      ],
      "metadata": {
        "id": "7_7IHYo9eyAI"
      }
    },
    {
      "cell_type": "code",
      "source": [
        "model.compile(\n",
        "    optimizer='sgd',\n",
        "    loss='mae',\n",
        "    metrics=['mae'],\n",
        ")\n",
        "EPOCHS = 100\n",
        "history = model.fit(\n",
        "    X_train, y_train,\n",
        "    validation_data=(X_valid, y_valid),\n",
        "    batch_size=64,\n",
        "    epochs=EPOCHS,\n",
        "    verbose=0,\n",
        ")\n",
        "\n",
        "history_df = pd.DataFrame(history.history)\n",
        "history_df.loc[0:, ['loss', 'val_loss']].plot()\n",
        "print((\"Minimum Validation Loss: {:0.4f}\").format(history_df['val_loss'].min()))"
      ],
      "metadata": {
        "execution": {
          "iopub.status.busy": "2024-10-01T23:46:30.660785Z",
          "iopub.execute_input": "2024-10-01T23:46:30.661157Z",
          "iopub.status.idle": "2024-10-01T23:46:42.179207Z",
          "shell.execute_reply.started": "2024-10-01T23:46:30.661115Z",
          "shell.execute_reply": "2024-10-01T23:46:42.178207Z"
        },
        "trusted": true,
        "id": "7fBckwG7eyAI",
        "outputId": "df7e9b40-e121-4dc8-8d00-bf1692e01a3c"
      },
      "execution_count": null,
      "outputs": [
        {
          "name": "stdout",
          "text": "Minimum Validation Loss: 3.5105\n",
          "output_type": "stream"
        },
        {
          "output_type": "display_data",
          "data": {
            "text/plain": "<Figure size 640x480 with 1 Axes>",
            "image/png": "[encoded data removed]"
          },
          "metadata": {}
        }
      ]
    },
    {
      "cell_type": "markdown",
      "source": [
        "# 4) Evaluate Batch Normalization\n",
        "\n",
        "Did adding batch normalization help?"
      ],
      "metadata": {
        "id": "I0kcaL3VeyAI"
      }
    },
    {
      "cell_type": "code",
      "source": [
        "# View the solution (Run this cell to receive credit!)\n",
        "q_4.check()"
      ],
      "metadata": {
        "lines_to_next_cell": 0,
        "execution": {
          "iopub.status.busy": "2024-10-01T23:46:47.542002Z",
          "iopub.execute_input": "2024-10-01T23:46:47.542855Z",
          "iopub.status.idle": "2024-10-01T23:46:47.550552Z",
          "shell.execute_reply.started": "2024-10-01T23:46:47.542821Z",
          "shell.execute_reply": "2024-10-01T23:46:47.549458Z"
        },
        "trusted": true,
        "id": "bFEdTn9aeyAI",
        "outputId": "f19af226-36d1-4769-b7c4-72ea6ad213f8"
      },
      "execution_count": null,
      "outputs": [
        {
          "output_type": "display_data",
          "data": {
            "text/plain": "<IPython.core.display.Javascript object>",
            "application/javascript": "parent.postMessage({\"jupyterEvent\": \"custom.exercise_interaction\", \"data\": {\"outcomeType\": 1, \"valueTowardsCompletion\": 0.25, \"interactionType\": 1, \"questionType\": 4, \"questionId\": \"4_Q4\", \"learnToolsVersion\": \"0.3.4\", \"failureMessage\": \"\", \"exceptionClass\": \"\", \"trace\": \"\"}}, \"*\")"
          },
          "metadata": {}
        },
        {
          "output_type": "display_data",
          "data": {
            "text/plain": "Correct: \n\n\nYou can see that adding batch normalization was a big improvement on the first attempt! By adaptively scaling the data as it passes through the network, batch normalization can let you train models on difficult datasets.",
            "text/markdown": "<span style=\"color:#33cc33\">Correct:</span> \n\n\nYou can see that adding batch normalization was a big improvement on the first attempt! By adaptively scaling the data as it passes through the network, batch normalization can let you train models on difficult datasets.\n"
          },
          "metadata": {}
        }
      ]
    },
    {
      "cell_type": "markdown",
      "source": [
        "# Keep Going #\n",
        "\n",
        "[**Create neural networks**](https://www.kaggle.com/ryanholbrook/binary-classification) for binary classification."
      ],
      "metadata": {
        "id": "bwwYeqBSeyAI"
      }
    },
    {
      "cell_type": "markdown",
      "source": [
        "---\n",
        "\n",
        "\n",
        "\n",
        "\n",
        "*Have questions or comments? Visit the [course discussion forum](https://www.kaggle.com/learn/intro-to-deep-learning/discussion) to chat with other learners.*"
      ],
      "metadata": {
        "id": "cRBVpyizeyAJ"
      }
    }
  ]
}