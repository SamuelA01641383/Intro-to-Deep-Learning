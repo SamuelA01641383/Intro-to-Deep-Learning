{
  "metadata": {
    "jupytext": {
      "cell_metadata_filter": "-all",
      "formats": "ipynb"
    },
    "kernelspec": {
      "display_name": "Python 3",
      "language": "python",
      "name": "python3"
    },
    "language_info": {
      "name": "python",
      "version": "3.10.13",
      "mimetype": "text/x-python",
      "codemirror_mode": {
        "name": "ipython",
        "version": 3
      },
      "pygments_lexer": "ipython3",
      "nbconvert_exporter": "python",
      "file_extension": ".py"
    },
    "kaggle": {
      "accelerator": "none",
      "dataSources": [
        {
          "sourceId": 1480608,
          "sourceType": "datasetVersion",
          "datasetId": 829369
        }
      ],
      "dockerImageVersionId": 30646,
      "isInternetEnabled": false,
      "language": "python",
      "sourceType": "notebook",
      "isGpuEnabled": false
    },
    "colab": {
      "provenance": []
    }
  },
  "nbformat_minor": 0,
  "nbformat": 4,
  "cells": [
    {
      "cell_type": "markdown",
      "source": [
        "**This notebook is an exercise in the [Intro to Deep Learning](https://www.kaggle.com/learn/intro-to-deep-learning) course.  You can reference the tutorial at [this link](https://www.kaggle.com/ryanholbrook/a-single-neuron).**\n",
        "\n",
        "---\n"
      ],
      "metadata": {
        "id": "gZ7ctajqXsP-"
      }
    },
    {
      "cell_type": "markdown",
      "source": [
        "# Introduction #\n",
        "\n",
        "In the tutorial we learned about the building blocks of neural networks: *linear units*. We saw that a model of just one linear unit will fit a linear function to a dataset (equivalent to linear regression). In this exercise, you'll build a linear model and get some practice working with models in Keras.\n",
        "\n",
        "Before you get started, run the code cell below to set everything up."
      ],
      "metadata": {
        "id": "ZdWiC1nNXsP_"
      }
    },
    {
      "cell_type": "code",
      "source": [
        "# Setup plotting\n",
        "import matplotlib.pyplot as plt\n",
        "\n",
        "plt.style.use('seaborn-whitegrid')\n",
        "# Set Matplotlib defaults\n",
        "plt.rc('figure', autolayout=True)\n",
        "plt.rc('axes', labelweight='bold', labelsize='large',\n",
        "       titleweight='bold', titlesize=18, titlepad=10)\n",
        "\n",
        "# Setup feedback system\n",
        "from learntools.core import binder\n",
        "binder.bind(globals())\n",
        "from learntools.deep_learning_intro.ex1 import *"
      ],
      "metadata": {
        "execution": {
          "iopub.status.busy": "2024-10-01T23:09:33.414733Z",
          "iopub.execute_input": "2024-10-01T23:09:33.419235Z",
          "iopub.status.idle": "2024-10-01T23:09:55.770205Z",
          "shell.execute_reply.started": "2024-10-01T23:09:33.419129Z",
          "shell.execute_reply": "2024-10-01T23:09:55.769115Z"
        },
        "trusted": true,
        "id": "cXBeM7_cXsP_",
        "outputId": "25201828-1521-49f0-d5ca-5a0aca8d5c1f"
      },
      "execution_count": null,
      "outputs": [
        {
          "name": "stderr",
          "text": "/tmp/ipykernel_30/3895727876.py:4: MatplotlibDeprecationWarning: The seaborn styles shipped by Matplotlib are deprecated since 3.6, as they no longer correspond to the styles shipped by seaborn. However, they will remain available as 'seaborn-v0_8-<style>'. Alternatively, directly use the seaborn API instead.\n  plt.style.use('seaborn-whitegrid')\n2024-10-01 23:09:38.054293: E external/local_xla/xla/stream_executor/cuda/cuda_dnn.cc:9261] Unable to register cuDNN factory: Attempting to register factory for plugin cuDNN when one has already been registered\n2024-10-01 23:09:38.054429: E external/local_xla/xla/stream_executor/cuda/cuda_fft.cc:607] Unable to register cuFFT factory: Attempting to register factory for plugin cuFFT when one has already been registered\n2024-10-01 23:09:38.225520: E external/local_xla/xla/stream_executor/cuda/cuda_blas.cc:1515] Unable to register cuBLAS factory: Attempting to register factory for plugin cuBLAS when one has already been registered\n",
          "output_type": "stream"
        }
      ]
    },
    {
      "cell_type": "markdown",
      "source": [
        "The *Red Wine Quality* dataset consists of physiochemical measurements from about 1600 Portuguese red wines.  Also included is a quality rating for each wine from blind taste-tests.\n",
        "\n",
        "First, run the next cell to display the first few rows of this dataset."
      ],
      "metadata": {
        "id": "aTs1pmyEXsQA"
      }
    },
    {
      "cell_type": "code",
      "source": [
        "import pandas as pd\n",
        "\n",
        "red_wine = pd.read_csv('../input/dl-course-data/red-wine.csv')\n",
        "red_wine.head()"
      ],
      "metadata": {
        "execution": {
          "iopub.status.busy": "2024-10-01T23:09:55.956711Z",
          "iopub.execute_input": "2024-10-01T23:09:55.959758Z",
          "iopub.status.idle": "2024-10-01T23:09:55.996185Z",
          "shell.execute_reply.started": "2024-10-01T23:09:55.959717Z",
          "shell.execute_reply": "2024-10-01T23:09:55.995257Z"
        },
        "trusted": true,
        "id": "COi9JolbXsQA",
        "outputId": "3eae8876-f519-4b11-ca66-e638db36d3cb"
      },
      "execution_count": null,
      "outputs": [
        {
          "execution_count": 5,
          "output_type": "execute_result",
          "data": {
            "text/plain": "   fixed acidity  volatile acidity  citric acid  residual sugar  chlorides  \\\n0            7.4              0.70         0.00             1.9      0.076   \n1            7.8              0.88         0.00             2.6      0.098   \n2            7.8              0.76         0.04             2.3      0.092   \n3           11.2              0.28         0.56             1.9      0.075   \n4            7.4              0.70         0.00             1.9      0.076   \n\n   free sulfur dioxide  total sulfur dioxide  density    pH  sulphates  \\\n0                 11.0                  34.0   0.9978  3.51       0.56   \n1                 25.0                  67.0   0.9968  3.20       0.68   \n2                 15.0                  54.0   0.9970  3.26       0.65   \n3                 17.0                  60.0   0.9980  3.16       0.58   \n4                 11.0                  34.0   0.9978  3.51       0.56   \n\n   alcohol  quality  \n0      9.4        5  \n1      9.8        5  \n2      9.8        5  \n3      9.8        6  \n4      9.4        5  ",
            "text/html": "<div>\n<style scoped>\n    .dataframe tbody tr th:only-of-type {\n        vertical-align: middle;\n    }\n\n    .dataframe tbody tr th {\n        vertical-align: top;\n    }\n\n    .dataframe thead th {\n        text-align: right;\n    }\n</style>\n<table border=\"1\" class=\"dataframe\">\n  <thead>\n    <tr style=\"text-align: right;\">\n      <th></th>\n      <th>fixed acidity</th>\n      <th>volatile acidity</th>\n      <th>citric acid</th>\n      <th>residual sugar</th>\n      <th>chlorides</th>\n      <th>free sulfur dioxide</th>\n      <th>total sulfur dioxide</th>\n      <th>density</th>\n      <th>pH</th>\n      <th>sulphates</th>\n      <th>alcohol</th>\n      <th>quality</th>\n    </tr>\n  </thead>\n  <tbody>\n    <tr>\n      <th>0</th>\n      <td>7.4</td>\n      <td>0.70</td>\n      <td>0.00</td>\n      <td>1.9</td>\n      <td>0.076</td>\n      <td>11.0</td>\n      <td>34.0</td>\n      <td>0.9978</td>\n      <td>3.51</td>\n      <td>0.56</td>\n      <td>9.4</td>\n      <td>5</td>\n    </tr>\n    <tr>\n      <th>1</th>\n      <td>7.8</td>\n      <td>0.88</td>\n      <td>0.00</td>\n      <td>2.6</td>\n      <td>0.098</td>\n      <td>25.0</td>\n      <td>67.0</td>\n      <td>0.9968</td>\n      <td>3.20</td>\n      <td>0.68</td>\n      <td>9.8</td>\n      <td>5</td>\n    </tr>\n    <tr>\n      <th>2</th>\n      <td>7.8</td>\n      <td>0.76</td>\n      <td>0.04</td>\n      <td>2.3</td>\n      <td>0.092</td>\n      <td>15.0</td>\n      <td>54.0</td>\n      <td>0.9970</td>\n      <td>3.26</td>\n      <td>0.65</td>\n      <td>9.8</td>\n      <td>5</td>\n    </tr>\n    <tr>\n      <th>3</th>\n      <td>11.2</td>\n      <td>0.28</td>\n      <td>0.56</td>\n      <td>1.9</td>\n      <td>0.075</td>\n      <td>17.0</td>\n      <td>60.0</td>\n      <td>0.9980</td>\n      <td>3.16</td>\n      <td>0.58</td>\n      <td>9.8</td>\n      <td>6</td>\n    </tr>\n    <tr>\n      <th>4</th>\n      <td>7.4</td>\n      <td>0.70</td>\n      <td>0.00</td>\n      <td>1.9</td>\n      <td>0.076</td>\n      <td>11.0</td>\n      <td>34.0</td>\n      <td>0.9978</td>\n      <td>3.51</td>\n      <td>0.56</td>\n      <td>9.4</td>\n      <td>5</td>\n    </tr>\n  </tbody>\n</table>\n</div>"
          },
          "metadata": {}
        }
      ]
    },
    {
      "cell_type": "markdown",
      "source": [
        "You can get the number of rows and columns of a dataframe (or a Numpy array) with the `shape` attribute."
      ],
      "metadata": {
        "id": "GvRWyEoyXsQA"
      }
    },
    {
      "cell_type": "code",
      "source": [
        "red_wine.shape # (rows, columns)"
      ],
      "metadata": {
        "execution": {
          "iopub.status.busy": "2024-10-01T23:10:00.208057Z",
          "iopub.execute_input": "2024-10-01T23:10:00.208532Z",
          "iopub.status.idle": "2024-10-01T23:10:00.226712Z",
          "shell.execute_reply.started": "2024-10-01T23:10:00.208492Z",
          "shell.execute_reply": "2024-10-01T23:10:00.225628Z"
        },
        "trusted": true,
        "id": "UE99mSEkXsQB",
        "outputId": "ad40893b-fc0b-4586-ae06-1987f81ab191"
      },
      "execution_count": null,
      "outputs": [
        {
          "execution_count": 6,
          "output_type": "execute_result",
          "data": {
            "text/plain": "(1599, 12)"
          },
          "metadata": {}
        }
      ]
    },
    {
      "cell_type": "markdown",
      "source": [
        "# 1) Input shape #\n",
        "\n",
        "How well can we predict a wine's perceived quality from the physiochemical measurements?  \n",
        "\n",
        "The target is `'quality'`, and the remaining columns are the features.  How would you set the `input_shape` parameter for a Keras model on this task?"
      ],
      "metadata": {
        "id": "annWUtUcXsQB"
      }
    },
    {
      "cell_type": "code",
      "source": [
        "# YOUR CODE HERE\n",
        "input_shape = (red_wine.shape[1] - 1,)\n",
        "\n",
        "# Check your answer\n",
        "q_1.check()"
      ],
      "metadata": {
        "lines_to_next_cell": 0,
        "execution": {
          "iopub.status.busy": "2024-10-01T23:10:03.713446Z",
          "iopub.execute_input": "2024-10-01T23:10:03.713844Z",
          "iopub.status.idle": "2024-10-01T23:10:03.731331Z",
          "shell.execute_reply.started": "2024-10-01T23:10:03.713815Z",
          "shell.execute_reply": "2024-10-01T23:10:03.730436Z"
        },
        "trusted": true,
        "id": "RMuaKLg9XsQB",
        "outputId": "b84cf0b4-3fa0-4c4f-96c2-5e276a7c0bb0"
      },
      "execution_count": null,
      "outputs": [
        {
          "output_type": "display_data",
          "data": {
            "text/plain": "<IPython.core.display.Javascript object>",
            "application/javascript": "parent.postMessage({\"jupyterEvent\": \"custom.exercise_interaction\", \"data\": {\"outcomeType\": 1, \"valueTowardsCompletion\": 0.3333333333333333, \"interactionType\": 1, \"questionType\": 2, \"questionId\": \"1_Q1\", \"learnToolsVersion\": \"0.3.4\", \"failureMessage\": \"\", \"exceptionClass\": \"\", \"trace\": \"\"}}, \"*\")"
          },
          "metadata": {}
        },
        {
          "output_type": "display_data",
          "data": {
            "text/plain": "Correct",
            "text/markdown": "<span style=\"color:#33cc33\">Correct</span>"
          },
          "metadata": {}
        }
      ]
    },
    {
      "cell_type": "code",
      "source": [
        "# Lines below will give you a hint or solution code\n",
        "#q_1.hint()\n",
        "#q_1.solution()"
      ],
      "metadata": {
        "execution": {
          "iopub.status.busy": "2024-10-01T22:58:09.10102Z",
          "iopub.execute_input": "2024-10-01T22:58:09.101391Z",
          "iopub.status.idle": "2024-10-01T22:58:09.109008Z",
          "shell.execute_reply.started": "2024-10-01T22:58:09.101364Z",
          "shell.execute_reply": "2024-10-01T22:58:09.107598Z"
        },
        "trusted": true,
        "id": "4mcuPkv1XsQB"
      },
      "execution_count": null,
      "outputs": []
    },
    {
      "cell_type": "markdown",
      "source": [
        "# 2) Define a linear model\n",
        "\n",
        "Now define a linear model appropriate for this task. Pay attention to how many inputs and outputs the model should have."
      ],
      "metadata": {
        "id": "E7iW8MIjXsQB"
      }
    },
    {
      "cell_type": "code",
      "source": [
        "from tensorflow import keras\n",
        "from tensorflow.keras import layers\n",
        "\n",
        "# YOUR CODE HERE\n",
        "model = keras.Sequential([\n",
        "    layers.InputLayer(input_shape=(input_shape[0],)),  # Input layer with the correct number of inputs\n",
        "    layers.Dense(1)  # Output layer with 1 unit (since we are predicting 1 value)\n",
        "])\n",
        "\n",
        "# Check your answer\n",
        "q_2.check()"
      ],
      "metadata": {
        "lines_to_next_cell": 0,
        "execution": {
          "iopub.status.busy": "2024-10-01T23:12:05.378092Z",
          "iopub.execute_input": "2024-10-01T23:12:05.378616Z",
          "iopub.status.idle": "2024-10-01T23:12:06.077389Z",
          "shell.execute_reply.started": "2024-10-01T23:12:05.378577Z",
          "shell.execute_reply": "2024-10-01T23:12:06.076488Z"
        },
        "trusted": true,
        "id": "5zOEzimYXsQB",
        "outputId": "fee7666c-0730-4e73-c331-d443c71e167b"
      },
      "execution_count": null,
      "outputs": [
        {
          "output_type": "display_data",
          "data": {
            "text/plain": "<IPython.core.display.Javascript object>",
            "application/javascript": "parent.postMessage({\"jupyterEvent\": \"custom.exercise_interaction\", \"data\": {\"outcomeType\": 1, \"valueTowardsCompletion\": 0.3333333333333333, \"interactionType\": 1, \"questionType\": 2, \"questionId\": \"2_Q2\", \"learnToolsVersion\": \"0.3.4\", \"failureMessage\": \"\", \"exceptionClass\": \"\", \"trace\": \"\"}}, \"*\")"
          },
          "metadata": {}
        },
        {
          "output_type": "display_data",
          "data": {
            "text/plain": "Correct",
            "text/markdown": "<span style=\"color:#33cc33\">Correct</span>"
          },
          "metadata": {}
        }
      ]
    },
    {
      "cell_type": "code",
      "source": [
        "# Lines below will give you a hint or solution code\n",
        "#q_2.hint()\n",
        "#q_2.solution()"
      ],
      "metadata": {
        "execution": {
          "iopub.status.busy": "2024-10-01T22:58:16.326533Z",
          "iopub.execute_input": "2024-10-01T22:58:16.326893Z",
          "iopub.status.idle": "2024-10-01T22:58:16.335209Z",
          "shell.execute_reply.started": "2024-10-01T22:58:16.326868Z",
          "shell.execute_reply": "2024-10-01T22:58:16.334137Z"
        },
        "trusted": true,
        "id": "uGtoQM3NXsQC"
      },
      "execution_count": null,
      "outputs": []
    },
    {
      "cell_type": "markdown",
      "source": [
        "# 3) Look at the weights\n",
        "\n",
        "Internally, Keras represents the weights of a neural network with **tensors**. Tensors are basically TensorFlow's version of a Numpy array with a few differences that make them better suited to deep learning. One of the most important is that tensors are compatible with [GPU](https://www.kaggle.com/docs/efficient-gpu-usage) and [TPU](https://www.kaggle.com/docs/tpu)) accelerators. TPUs, in fact, are designed specifically for tensor computations.\n",
        "\n",
        "A model's weights are kept in its `weights` attribute as a list of tensors. Get the weights of the model you defined above. (If you want, you could display the weights with something like: `print(\"Weights\\n{}\\n\\nBias\\n{}\".format(w, b))`)."
      ],
      "metadata": {
        "id": "NmoVTCDCXsQC"
      }
    },
    {
      "cell_type": "code",
      "source": [
        "# YOUR CODE HERE\n",
        "w, b =  model.weights\n",
        "print(\"Weights\\n{}\\n\\nBias\\n{}\".format(w, b))\n",
        "\n",
        "# Check your answer\n",
        "q_3.check()"
      ],
      "metadata": {
        "lines_to_next_cell": 0,
        "execution": {
          "iopub.status.busy": "2024-10-01T23:14:34.666985Z",
          "iopub.execute_input": "2024-10-01T23:14:34.667409Z",
          "iopub.status.idle": "2024-10-01T23:14:34.693003Z",
          "shell.execute_reply.started": "2024-10-01T23:14:34.667377Z",
          "shell.execute_reply": "2024-10-01T23:14:34.691639Z"
        },
        "trusted": true,
        "id": "6qT76Km0XsQC",
        "outputId": "1e99f28f-f275-412b-9435-08861cf06a32"
      },
      "execution_count": null,
      "outputs": [
        {
          "name": "stdout",
          "text": "Weights\n<tf.Variable 'dense/kernel:0' shape=(11, 1) dtype=float32, numpy=\narray([[ 0.42247528],\n       [-0.01920885],\n       [ 0.11970681],\n       [-0.13477182],\n       [-0.4040556 ],\n       [ 0.13837403],\n       [ 0.2735715 ],\n       [ 0.5963357 ],\n       [-0.31338945],\n       [ 0.679056  ],\n       [-0.3636971 ]], dtype=float32)>\n\nBias\n<tf.Variable 'dense/bias:0' shape=(1,) dtype=float32, numpy=array([0.], dtype=float32)>\n",
          "output_type": "stream"
        },
        {
          "output_type": "display_data",
          "data": {
            "text/plain": "<IPython.core.display.Javascript object>",
            "application/javascript": "parent.postMessage({\"jupyterEvent\": \"custom.exercise_interaction\", \"data\": {\"outcomeType\": 1, \"valueTowardsCompletion\": 0.3333333333333333, \"interactionType\": 1, \"questionType\": 2, \"questionId\": \"3_Q3\", \"learnToolsVersion\": \"0.3.4\", \"failureMessage\": \"\", \"exceptionClass\": \"\", \"trace\": \"\"}}, \"*\")"
          },
          "metadata": {}
        },
        {
          "output_type": "display_data",
          "data": {
            "text/plain": "Correct: Do you see how there's one weight for each input (and a bias)? Notice though that there doesn't seem to be any pattern to the values the weights have. Before the model is trained, the weights are set to random numbers (and the bias to 0.0). A neural network learns by finding better values for its weights.",
            "text/markdown": "<span style=\"color:#33cc33\">Correct:</span> Do you see how there's one weight for each input (and a bias)? Notice though that there doesn't seem to be any pattern to the values the weights have. Before the model is trained, the weights are set to random numbers (and the bias to 0.0). A neural network learns by finding better values for its weights.\n"
          },
          "metadata": {}
        }
      ]
    },
    {
      "cell_type": "code",
      "source": [
        "# Lines below will give you a hint or solution code\n",
        "#q_3.hint()\n",
        "#q_3.solution()"
      ],
      "metadata": {
        "lines_to_next_cell": 0,
        "id": "RceG8-edXsQC"
      },
      "execution_count": null,
      "outputs": []
    },
    {
      "cell_type": "markdown",
      "source": [
        "(By the way, Keras represents weights as tensors, but also uses tensors to represent data. When you set the `input_shape` argument, you are telling Keras the dimensions of the array it should expect for each example in the training data. Setting `input_shape=[3]` would create a network accepting vectors of length 3, like `[0.2, 0.4, 0.6]`.)\n",
        "\n",
        "\n",
        "# Optional: Plot the output of an untrained linear model\n",
        "\n",
        "The kinds of problems we'll work on through Lesson 5 will be *regression* problems, where the goal is to predict some numeric target. Regression problems are like \"curve-fitting\" problems: we're trying to find a curve that best fits the data. Let's take a look at the \"curve\" produced by a linear model. (You've probably guessed that it's a line!)\n",
        "\n",
        "We mentioned that before training a model's weights are set randomly. Run the cell below a few times to see the different lines produced with a random initialization. (There's no coding for this exercise -- it's just a demonstration.)"
      ],
      "metadata": {
        "id": "um1SKwzrXsQC"
      }
    },
    {
      "cell_type": "code",
      "source": [
        "import tensorflow as tf\n",
        "import matplotlib.pyplot as plt\n",
        "\n",
        "model = keras.Sequential([\n",
        "    layers.Dense(1, input_shape=[1]),\n",
        "])\n",
        "\n",
        "x = tf.linspace(-1.0, 1.0, 100)\n",
        "y = model.predict(x)\n",
        "\n",
        "plt.figure(dpi=100)\n",
        "plt.plot(x, y, 'k')\n",
        "plt.xlim(-1, 1)\n",
        "plt.ylim(-1, 1)\n",
        "plt.xlabel(\"Input: x\")\n",
        "plt.ylabel(\"Target y\")\n",
        "w, b = model.weights # you could also use model.get_weights() here\n",
        "plt.title(\"Weight: {:0.2f}\\nBias: {:0.2f}\".format(w[0][0], b[0]))\n",
        "plt.show()"
      ],
      "metadata": {
        "lines_to_next_cell": 0,
        "execution": {
          "iopub.status.busy": "2024-10-01T23:14:49.438108Z",
          "iopub.execute_input": "2024-10-01T23:14:49.438646Z",
          "iopub.status.idle": "2024-10-01T23:14:50.613305Z",
          "shell.execute_reply.started": "2024-10-01T23:14:49.438607Z",
          "shell.execute_reply": "2024-10-01T23:14:50.612351Z"
        },
        "trusted": true,
        "id": "fi02LMRTXsQC",
        "outputId": "68db40a8-db8d-4618-9601-c9a6d8362318"
      },
      "execution_count": null,
      "outputs": [
        {
          "name": "stdout",
          "text": "4/4 [==============================] - 0s 5ms/step\n",
          "output_type": "stream"
        },
        {
          "output_type": "display_data",
          "data": {
            "text/plain": "<Figure size 640x480 with 1 Axes>",
            "image/png": "[encoded data removed]"
          },
          "metadata": {}
        }
      ]
    },
    {
      "cell_type": "markdown",
      "source": [
        "# Keep Going #\n",
        "\n",
        "Add hidden layers and [**make your models deep**](https://www.kaggle.com/ryanholbrook/deep-neural-networks) in Lesson 2."
      ],
      "metadata": {
        "id": "6awaEVx6XsQC"
      }
    },
    {
      "cell_type": "markdown",
      "source": [
        "---\n",
        "\n",
        "\n",
        "\n",
        "\n",
        "*Have questions or comments? Visit the [course discussion forum](https://www.kaggle.com/learn/intro-to-deep-learning/discussion) to chat with other learners.*"
      ],
      "metadata": {
        "id": "UvZNpAKaXsQC"
      }
    }
  ]
}